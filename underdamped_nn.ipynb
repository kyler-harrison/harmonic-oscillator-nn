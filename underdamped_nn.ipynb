{
 "cells": [
  {
   "cell_type": "code",
   "execution_count": 1,
   "id": "d1c2ca9a",
   "metadata": {},
   "outputs": [],
   "source": [
    "import torch\n",
    "import torch.nn as nn\n",
    "import torch.optim as optim\n",
    "import numpy as np\n",
    "import pandas as pd\n",
    "import time\n",
    "import os\n",
    "import matplotlib.pyplot as plt"
   ]
  },
  {
   "cell_type": "markdown",
   "id": "d91c61e2",
   "metadata": {},
   "source": [
    "## Define neural net class"
   ]
  },
  {
   "cell_type": "code",
   "execution_count": 2,
   "id": "90796a83",
   "metadata": {},
   "outputs": [],
   "source": [
    "class FeedFwdNN(nn.Module):\n",
    "    def __init__(self, input_size, output_size, optim_lr=0.0001):\n",
    "        # torch inheritance thing\n",
    "        super(FeedFwdNN, self).__init__()\n",
    "\n",
    "        # the network \n",
    "        self.dense1 = nn.Linear(input_size, 64)\n",
    "        self.relu1 = nn.ReLU()\n",
    "        self.dense2 = nn.Linear(64, 64)\n",
    "        self.relu2 = nn.ReLU()\n",
    "        self.dense3 = nn.Linear(64, 64)\n",
    "        self.relu3 = nn.ReLU()\n",
    "        self.dense4 = nn.Linear(64, 64)\n",
    "        self.relu4 = nn.ReLU()\n",
    "        self.out_dense = nn.Linear(64, output_size)\n",
    "        \n",
    "        # optimizer and loss\n",
    "        self.optimizer = optim.Adam(self.parameters(), lr=optim_lr)\n",
    "        self.criteria = nn.MSELoss()\n",
    "        self.loss = None\n",
    "    \n",
    "    def forward(self, input_data):\n",
    "        \"\"\"\n",
    "        Description:\n",
    "        Forward pass of the neural network.\n",
    "\n",
    "        Inputs:\n",
    "        input_data: tensor of a single sample of data\n",
    "\n",
    "        Ouput:\n",
    "        returns tensor of network's final output\n",
    "        \"\"\"\n",
    "        x = self.dense1(input_data)\n",
    "        x = self.relu1(x)\n",
    "        x = self.dense2(x)\n",
    "        x = self.relu2(x)\n",
    "        x = self.dense3(x)\n",
    "        x = self.relu3(x)\n",
    "        x = self.dense4(x)\n",
    "        x = self.relu4(x)\n",
    "        x = self.out_dense(x)\n",
    "        return x\n",
    "    \n",
    "    def backward(self, outputs, targets):\n",
    "        \"\"\"\n",
    "        Description:\n",
    "        Backward pass of the neural network. Loss computed, optimizer\n",
    "        zeroed, loss and optimizer complete backward step.\n",
    "\n",
    "        Inputs:\n",
    "        outputs: tensor of network's predicted outputs of a given sample\n",
    "                 (i.e. output of forward pass)\n",
    "        targets: actual output tensor for given sample\n",
    "\n",
    "        Output:\n",
    "        returns loss value between outputs and targets\n",
    "        \"\"\"\n",
    "        self.loss = self.criteria(outputs, targets)\n",
    "        loss_copy = self.loss\n",
    "        self.optimizer.zero_grad()\n",
    "        self.loss.backward()\n",
    "        self.optimizer.step()\n",
    "        return loss_copy\n",
    "    \n",
    "    def compute_loss(self, outputs, targets):\n",
    "        \"\"\"\n",
    "        Description:\n",
    "        Computes loss without actually backpropagating. Used for checking\n",
    "        network's progress with test data.\n",
    "\n",
    "        Inputs:\n",
    "        outputs: tensor of network's predicted outputs of a given sample\n",
    "                 (i.e. output of forward pass)\n",
    "        targets: actual output tensor for given sample\n",
    "\n",
    "        Output:\n",
    "        returns loss value between outputs and targets\n",
    "        \"\"\"\n",
    "        return self.criteria(outputs, targets)"
   ]
  },
  {
   "cell_type": "markdown",
   "id": "50e17359",
   "metadata": {},
   "source": [
    "## Define a few functions for generating data"
   ]
  },
  {
   "cell_type": "code",
   "execution_count": 17,
   "id": "d6e86393",
   "metadata": {},
   "outputs": [],
   "source": [
    "def underdamped_position(t_values, amplitude, gamma, Omega, phi):\n",
    "    \"\"\"\n",
    "    Description:\n",
    "    Calculates the position value of an underdamped harmonic oscillator\n",
    "    with the inputted t_values and parameters.\n",
    "    For math, see: https://phys.libretexts.org/Bookshelves/Mathematical_Physics_and_Pedagogy/Complex_Methods_for_the_Sciences_(Chong)/05%3A_Complex_Oscillations/5.03%3A_General_Solution_for_the_Damped_Harmonic_Oscillator\n",
    "\n",
    "    Inputs:\n",
    "    t_values: np array or scalar of time values, output has same shape\n",
    "    amplitude: factor multiplied by entire expression\n",
    "    gamma: damping coefficient\n",
    "    Omega: sqrt((angular frequency)**2 - gamma**2). Note that this is \n",
    "           capital Omega, not to be confused with lowercase omega \n",
    "           (angular frequency). Also note that omega > gamma for \n",
    "           underdamped case.\n",
    "    phi: phase shift\n",
    "\n",
    "    Output:\n",
    "    returns np array or scalar of position values, calculated using \n",
    "    general solution to underdamped harmonic oscillator (see url in \n",
    "    description).\n",
    "\n",
    "    \"\"\"\n",
    "    return amplitude * np.exp(-gamma * t_values) * np.cos(Omega * t_values + phi)"
   ]
  },
  {
   "cell_type": "code",
   "execution_count": 18,
   "id": "f0e1dd9d",
   "metadata": {},
   "outputs": [],
   "source": [
    "def generate_params():\n",
    "    \"\"\"\n",
    "    Description:\n",
    "    Generates random values of Omega, gamma, amplitude, and phi that fit\n",
    "    constraints imposed by underdamped condition.\n",
    "\n",
    "    Inputs:\n",
    "    None\n",
    "\n",
    "    Output:\n",
    "    returns amplitude, gamma, Omega, phi\n",
    "\n",
    "    \"\"\"\n",
    "    # NOTE these ranges for omega_0 and gamma are somewhat arbitrarily determined\n",
    "    omega_0 = (1 - 0.1) * np.random.random() + 0.1\n",
    "    gamma = (0.1 - 0.01) * np.random.random() + 0.01\n",
    "\n",
    "    amplitude = np.random.random()  # range of 0-1\n",
    "    phi = np.random.random()  # range of 0-1\n",
    "    Omega = np.sqrt(omega_0**2 - gamma**2)\n",
    "\n",
    "    return amplitude, gamma, Omega, phi"
   ]
  },
  {
   "cell_type": "code",
   "execution_count": 19,
   "id": "8a5e3bd6",
   "metadata": {},
   "outputs": [],
   "source": [
    "def generate_independent_data(file_path, file_mode, num_samples, t_start=0, t_stop=100, t_step=1):\n",
    "    \"\"\"\n",
    "    Description:\n",
    "    Generates a random value of t and random param values, then computes\n",
    "    the underdamped harmonic oscillator position. Does this num_samples\n",
    "    times and then writes data to csv.\n",
    "\n",
    "    Inputs:\n",
    "    file_path: name of csv to write generated data to\n",
    "    file_mode: mode to open file_path in\n",
    "    num_samples: number of random samples to generate (output file will\n",
    "                 have this many lines +1 for header)\n",
    "    t_start: beginning value of t range\n",
    "    t_stop: ending value of t range\n",
    "\n",
    "    Output:\n",
    "    returns None, writes data to file\n",
    "    \"\"\"\n",
    "    generated_samples = []\n",
    "    t_choices = np.arange(t_start, t_stop + t_step, t_step)\n",
    "\n",
    "    for i in range(num_samples):\n",
    "        t = np.random.choice(t_choices)\n",
    "        amplitude, gamma, Omega, phi = generate_params()\n",
    "        position = underdamped_position(t, amplitude, gamma, Omega, phi)\n",
    "        generated_samples.append([t, Omega, gamma, phi, amplitude, position])\n",
    "\n",
    "    with open(file_path, file_mode) as fi:\n",
    "        if (file_mode == \"w\"):\n",
    "            fi.write(\"t,Omega,gamma,phi,amplitude,y\\n\")\n",
    "\n",
    "        for sample in generated_samples:\n",
    "            fi.write(f\"{','.join([str(val) for val in sample])}\\n\")"
   ]
  },
  {
   "cell_type": "code",
   "execution_count": 20,
   "id": "addb4ec0",
   "metadata": {},
   "outputs": [],
   "source": [
    "def generate_range_data(t_start=0, t_stop=100, t_step=0.1):\n",
    "    \"\"\"\n",
    "    Description: generates a set of underdamped harmonic oscillator data\n",
    "                 using a fixed range of t and random constants.\n",
    "\n",
    "    Inputs:\n",
    "    t_start: starting value of t (defaults to 0)\n",
    "    t_stop: stopping value of t (defaults to 100)\n",
    "    t_step: number of values from t_start to t_stop (defaults to 1000)\n",
    "\n",
    "    Output:\n",
    "    t_values, positions, amplitude, gamma, Omega, phi\n",
    "    \"\"\"\n",
    "    # hold range of t values constant across all generated data\n",
    "    t_values = np.arange(t_start, t_stop + t_step, t_step)\n",
    "\n",
    "    # randomly generate parameters\n",
    "    amplitude, gamma, Omega, phi = generate_params()\n",
    "\n",
    "    # analytical solution (y values)\n",
    "    positions = underdamped_position(t_values, amplitude, gamma, Omega, phi)\n",
    "    \n",
    "    return t_values, positions, amplitude, gamma, Omega, phi"
   ]
  },
  {
   "cell_type": "markdown",
   "id": "77f4874a",
   "metadata": {},
   "source": [
    "## Create train dataset"
   ]
  },
  {
   "cell_type": "code",
   "execution_count": 7,
   "id": "751013bd",
   "metadata": {},
   "outputs": [
    {
     "name": "stdout",
     "output_type": "stream",
     "text": [
      "CPU times: user 19.7 s, sys: 433 ms, total: 20.1 s\n",
      "Wall time: 19.8 s\n"
     ]
    }
   ],
   "source": [
    "%%time\n",
    "data_dir = \"data\"\n",
    "os.system(f\"mkdir -p {data_dir}\")\n",
    "\n",
    "train_samples = int(1e6)\n",
    "train_dataset_name = \"underdamped_independent_train\"\n",
    "t_start = 0\n",
    "t_stop = 50\n",
    "t_step = 0.1\n",
    "\n",
    "train_file_path = f\"{data_dir}/{train_dataset_name}_samples={train_samples}_t0={t_start}_tf={t_stop}_ts={t_step}.csv\"\n",
    "file_mode = \"w\"\n",
    "generate_independent_data(train_file_path, file_mode, train_samples, t_start=t_start, t_stop=t_stop, t_step=t_step)"
   ]
  },
  {
   "cell_type": "markdown",
   "id": "bb237471",
   "metadata": {},
   "source": [
    "## Create test dataset"
   ]
  },
  {
   "cell_type": "code",
   "execution_count": 8,
   "id": "d0ea5f0d",
   "metadata": {},
   "outputs": [
    {
     "name": "stdout",
     "output_type": "stream",
     "text": [
      "CPU times: user 237 ms, sys: 24.8 ms, total: 262 ms\n",
      "Wall time: 229 ms\n"
     ]
    }
   ],
   "source": [
    "%%time\n",
    "test_samples = int(1e4)\n",
    "test_dataset_name = \"underdamped_independent_test\"\n",
    "\n",
    "test_file_path = f\"{data_dir}/{test_dataset_name}_samples={test_samples}_t0={t_start}_tf={t_stop}_ts={t_step}.csv\"\n",
    "file_mode = \"w\"\n",
    "generate_independent_data(test_file_path, file_mode, test_samples, t_start=t_start, t_stop=t_stop, t_step=t_step)"
   ]
  },
  {
   "cell_type": "markdown",
   "id": "4b5f5ae6",
   "metadata": {},
   "source": [
    "## Load and prepare train/test datasets"
   ]
  },
  {
   "cell_type": "code",
   "execution_count": 9,
   "id": "e7b06792",
   "metadata": {},
   "outputs": [],
   "source": [
    "# train\n",
    "train_df = pd.read_csv(train_file_path)\n",
    "feat_cols = [col for col in train_df.columns if col != \"y\"]\n",
    "X_train = torch.tensor(train_df[feat_cols].values).float()\n",
    "y_train = torch.tensor(train_df[\"y\"].values).float()\n",
    "y_train = y_train.reshape(y_train.shape[0], 1)\n",
    "\n",
    "# test\n",
    "test_df = pd.read_csv(test_file_path)\n",
    "X_test = torch.tensor(test_df[feat_cols].values).float()\n",
    "y_test = torch.tensor(test_df[\"y\"].values).float()\n",
    "y_test = y_test.reshape(y_test.shape[0], 1)"
   ]
  },
  {
   "cell_type": "markdown",
   "id": "f08e277c",
   "metadata": {},
   "source": [
    "## Initialize nn"
   ]
  },
  {
   "cell_type": "code",
   "execution_count": 10,
   "id": "867aad1f",
   "metadata": {},
   "outputs": [],
   "source": [
    "input_len = X_train.shape[1]\n",
    "num_outputs = 1  # nn predicts a scalar\n",
    "model = FeedFwdNN(input_len, num_outputs)\n",
    "model_dir = \"models\"\n",
    "model_path = f\"{model_dir}/{train_file_path.replace('data/', '').replace('train_', '').replace('.csv', '.pt')}\""
   ]
  },
  {
   "cell_type": "markdown",
   "id": "b29baa74",
   "metadata": {},
   "source": [
    "## Training loop"
   ]
  },
  {
   "cell_type": "code",
   "execution_count": 11,
   "id": "bd6e8e10",
   "metadata": {},
   "outputs": [
    {
     "name": "stdout",
     "output_type": "stream",
     "text": [
      "epoch: 0\n",
      "train loss = 0.01494506374001503, test loss = 0.012129643000662327, time = 13.57 seconds\n",
      "\n",
      "epoch: 1\n",
      "train loss = 0.010408704169094563, test loss = 0.008917510509490967, time = 13.91 seconds\n",
      "\n",
      "epoch: 2\n",
      "train loss = 0.009275947697460651, test loss = 0.006940765306353569, time = 13.91 seconds\n",
      "\n",
      "epoch: 3\n",
      "train loss = 0.008704660460352898, test loss = 0.006634185090661049, time = 14.14 seconds\n",
      "\n",
      "epoch: 4\n",
      "train loss = 0.006913329474627972, test loss = 0.0050155241042375565, time = 14.90 seconds\n",
      "\n",
      "epoch: 5\n",
      "train loss = 0.005316952243447304, test loss = 0.004177853465080261, time = 15.03 seconds\n",
      "\n",
      "epoch: 6\n",
      "train loss = 0.0043426440097391605, test loss = 0.00312502752058208, time = 15.23 seconds\n",
      "\n",
      "epoch: 7\n",
      "train loss = 0.0029560362454503775, test loss = 0.0028234354685992002, time = 15.45 seconds\n",
      "\n",
      "epoch: 8\n",
      "train loss = 0.0024858831893652678, test loss = 0.002651401562616229, time = 15.44 seconds\n",
      "\n",
      "epoch: 9\n",
      "train loss = 0.0024992446415126324, test loss = 0.002521610353142023, time = 15.67 seconds\n",
      "\n",
      "epoch: 10\n",
      "train loss = 0.0021096663549542427, test loss = 0.0022237030789256096, time = 15.37 seconds\n",
      "\n",
      "epoch: 11\n",
      "train loss = 0.0018889802740886807, test loss = 0.0021835591178387403, time = 16.53 seconds\n",
      "\n",
      "epoch: 12\n",
      "train loss = 0.0018102274043485522, test loss = 0.002135771093890071, time = 15.90 seconds\n",
      "\n",
      "epoch: 13\n",
      "train loss = 0.002104764338582754, test loss = 0.002384285442531109, time = 15.82 seconds\n",
      "\n",
      "epoch: 14\n",
      "train loss = 0.0018971289973706007, test loss = 0.0021779253147542477, time = 16.02 seconds\n",
      "\n",
      "epoch: 15\n",
      "train loss = 0.0015377989038825035, test loss = 0.0018665846437215805, time = 16.14 seconds\n",
      "\n",
      "epoch: 16\n",
      "train loss = 0.0018391427583992481, test loss = 0.002082861727103591, time = 16.01 seconds\n",
      "\n",
      "epoch: 17\n",
      "train loss = 0.001863698591478169, test loss = 0.0020317574962973595, time = 15.89 seconds\n",
      "\n",
      "epoch: 18\n",
      "train loss = 0.001499639474786818, test loss = 0.0018798381788656116, time = 16.19 seconds\n",
      "\n",
      "epoch: 19\n",
      "train loss = 0.0013334567192941904, test loss = 0.001747542410157621, time = 16.47 seconds\n",
      "\n",
      "epoch: 20\n",
      "train loss = 0.0013822396285831928, test loss = 0.0017125833546742797, time = 15.46 seconds\n",
      "\n",
      "epoch: 21\n",
      "train loss = 0.0017096033552661538, test loss = 0.0017898333026096225, time = 15.66 seconds\n",
      "\n",
      "epoch: 22\n",
      "train loss = 0.0013843055348843336, test loss = 0.0018190405098721385, time = 15.76 seconds\n",
      "\n",
      "epoch: 23\n",
      "train loss = 0.0014217826537787914, test loss = 0.0016654747305437922, time = 15.55 seconds\n",
      "\n",
      "epoch: 24\n",
      "train loss = 0.0017092898488044739, test loss = 0.001657790970057249, time = 15.54 seconds\n",
      "\n",
      "epoch: 25\n",
      "train loss = 0.0014585527824237943, test loss = 0.0018488408531993628, time = 15.55 seconds\n",
      "\n",
      "epoch: 26\n",
      "train loss = 0.001308732433244586, test loss = 0.0016511442372575402, time = 15.51 seconds\n",
      "\n",
      "epoch: 27\n",
      "train loss = 0.001309545012190938, test loss = 0.00142698606941849, time = 15.65 seconds\n",
      "\n",
      "epoch: 28\n",
      "train loss = 0.0012628167169168591, test loss = 0.0014497064985334873, time = 15.56 seconds\n",
      "\n",
      "epoch: 29\n",
      "train loss = 0.0012778972741216421, test loss = 0.0013282833388075233, time = 15.65 seconds\n",
      "\n"
     ]
    }
   ],
   "source": [
    "# parameters of training loop\n",
    "num_epochs = 30\n",
    "batch_size = 64\n",
    "batches = torch.arange(0, X_train.shape[0], batch_size)\n",
    "train_losses = []  \n",
    "test_losses = []\n",
    "\n",
    "for epoch_idx in range(num_epochs):\n",
    "    start = time.time()\n",
    "    print(f\"epoch: {epoch_idx}\")\n",
    "\n",
    "    for batch in batches:\n",
    "        X_batch = X_train[batch:batch + batch_size]\n",
    "        y_batch = y_train[batch:batch + batch_size]\n",
    "        y_predictions = model.forward(X_batch)\n",
    "        train_loss = model.backward(y_predictions, y_batch)\n",
    "\n",
    "    y_test_predictions = model.forward(X_test)\n",
    "    test_loss = model.compute_loss(y_test_predictions, y_test)\n",
    "    train_losses.append(train_loss.detach().numpy())\n",
    "    test_losses.append(test_loss.detach().numpy())\n",
    "    print(f\"train loss = {train_loss}, test loss = {test_loss}, time = {time.time() - start:.2f} seconds\\n\")\n",
    "\n",
    "# save model\n",
    "os.system(f\"rm -rf {model_path}\")  \n",
    "torch.save(model.state_dict(), model_path)"
   ]
  },
  {
   "cell_type": "code",
   "execution_count": 12,
   "id": "3db0fc8f",
   "metadata": {},
   "outputs": [],
   "source": [
    "plt.rcParams[\"figure.figsize\"] = (13, 8)\n",
    "plt.rcParams[\"font.size\"] = 16"
   ]
  },
  {
   "cell_type": "code",
   "execution_count": 13,
   "id": "4b2fb79f",
   "metadata": {},
   "outputs": [
    {
     "data": {
      "image/png": "[encoded data removed]",
      "text/plain": [
       "<Figure size 936x576 with 1 Axes>"
      ]
     },
     "metadata": {
      "needs_background": "light"
     },
     "output_type": "display_data"
    }
   ],
   "source": [
    "# plot losses\n",
    "epoch_indexes = [i for i in range(num_epochs)]\n",
    "plt.scatter(epoch_indexes, train_losses, label=\"train\")\n",
    "plt.scatter(epoch_indexes, test_losses, label=\"test\")\n",
    "plt.legend()\n",
    "plt.xlabel(\"epoch #\")\n",
    "plt.ylabel(\"loss\")\n",
    "plt.show()"
   ]
  },
  {
   "cell_type": "markdown",
   "id": "c3c3ad29",
   "metadata": {},
   "source": [
    "## Create data over an interval of t"
   ]
  },
  {
   "cell_type": "code",
   "execution_count": 29,
   "id": "5c328b62",
   "metadata": {
    "scrolled": false
   },
   "outputs": [
    {
     "data": {
      "image/png": "[encoded data removed]",
      "text/plain": [
       "<Figure size 936x576 with 1 Axes>"
      ]
     },
     "metadata": {
      "needs_background": "light"
     },
     "output_type": "display_data"
    }
   ],
   "source": [
    "num_datasets = 1\n",
    "# TODO return params, make 4x3 output of example plots or some\n",
    "\n",
    "for _ in range(num_datasets):\n",
    "    # create data from t_start to t_stop in t_step increments\n",
    "    t_values, positions, amplitude, gamma, Omega, phi = generate_range_data(t_start=t_start, t_stop=t_stop, t_step=t_step)\n",
    "    \n",
    "    # there's probably a more efficient way than this, but this makes getting the correct shapes for\n",
    "    # model simple below\n",
    "    validation_df = pd.DataFrame({\"t\": t_values, \"amplitude\": amplitude, \"gamma\": gamma, \"Omega\": Omega, \"phi\": phi, \"y\": positions})\n",
    "    \n",
    "    # make predictions over this new range of data\n",
    "    X_val = torch.tensor(validation_df[feat_cols].values).float()\n",
    "    y_val = validation_df[\"y\"].to_numpy()\n",
    "    val_preds = model(X_val)\n",
    "    val_preds = val_preds.detach().numpy()\n",
    "    val_preds = val_preds.reshape(val_preds.shape[0])\n",
    "\n",
    "    plt.plot(validation_df[\"t\"], y_val, label=\"analytical\")\n",
    "    plt.plot(validation_df[\"t\"], val_preds, \"--\", label=\"predicted\")\n",
    "    plt.xlabel(\"t\")\n",
    "    plt.ylabel(\"y\")\n",
    "    plt.legend()\n",
    "    plt.show()\n"
   ]
  },
  {
   "cell_type": "code",
   "execution_count": null,
   "id": "fe831cff",
   "metadata": {},
   "outputs": [],
   "source": []
  },
  {
   "cell_type": "code",
   "execution_count": null,
   "id": "7921c0e8",
   "metadata": {},
   "outputs": [],
   "source": []
  }
 ],
 "metadata": {
  "kernelspec": {
   "display_name": "Python 3 (ipykernel)",
   "language": "python",
   "name": "python3"
  },
  "language_info": {
   "codemirror_mode": {
    "name": "ipython",
    "version": 3
   },
   "file_extension": ".py",
   "mimetype": "text/x-python",
   "name": "python",
   "nbconvert_exporter": "python",
   "pygments_lexer": "ipython3",
   "version": "3.9.7"
  }
 },
 "nbformat": 4,
 "nbformat_minor": 5
}

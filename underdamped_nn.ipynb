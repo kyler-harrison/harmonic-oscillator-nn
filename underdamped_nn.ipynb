{
 "cells": [
  {
   "cell_type": "code",
   "execution_count": 40,
   "id": "d1c2ca9a",
   "metadata": {},
   "outputs": [],
   "source": [
    "import torch\n",
    "import torch.nn as nn\n",
    "import torch.optim as optim\n",
    "import numpy as np\n",
    "import pandas as pd\n",
    "import time\n",
    "import os\n",
    "import matplotlib.pyplot as plt"
   ]
  },
  {
   "cell_type": "markdown",
   "id": "d91c61e2",
   "metadata": {},
   "source": [
    "## Define neural net class"
   ]
  },
  {
   "cell_type": "code",
   "execution_count": 13,
   "id": "90796a83",
   "metadata": {},
   "outputs": [],
   "source": [
    "class FeedFwdNN(nn.Module):\n",
    "    def __init__(self, input_size, output_size, optim_lr=0.0001):\n",
    "        # torch inheritance thing\n",
    "        super(FeedFwdNN, self).__init__()\n",
    "\n",
    "        # the network \n",
    "        self.dense1 = nn.Linear(input_size, 64)\n",
    "        self.relu1 = nn.ReLU()\n",
    "        self.dense2 = nn.Linear(64, 64)\n",
    "        self.relu2 = nn.ReLU()\n",
    "        self.dense3 = nn.Linear(64, 64)\n",
    "        self.relu3 = nn.ReLU()\n",
    "        self.dense4 = nn.Linear(64, 64)\n",
    "        self.relu4 = nn.ReLU()\n",
    "        self.out_dense = nn.Linear(64, output_size)\n",
    "        \n",
    "        # optimizer and loss\n",
    "        self.optimizer = optim.Adam(self.parameters(), lr=optim_lr)\n",
    "        self.criteria = nn.MSELoss()\n",
    "        self.loss = None\n",
    "    \n",
    "    def forward(self, input_data):\n",
    "        \"\"\"\n",
    "        Description:\n",
    "        Forward pass of the neural network.\n",
    "\n",
    "        Inputs:\n",
    "        input_data: tensor of a single sample of data\n",
    "\n",
    "        Ouput:\n",
    "        returns tensor of network's final output\n",
    "        \"\"\"\n",
    "        x = self.dense1(input_data)\n",
    "        x = self.relu1(x)\n",
    "        x = self.dense2(x)\n",
    "        x = self.relu2(x)\n",
    "        x = self.dense3(x)\n",
    "        x = self.relu3(x)\n",
    "        x = self.dense4(x)\n",
    "        x = self.relu4(x)\n",
    "        x = self.out_dense(x)\n",
    "        return x\n",
    "    \n",
    "    def backward(self, outputs, targets):\n",
    "        \"\"\"\n",
    "        Description:\n",
    "        Backward pass of the neural network. Loss computed, optimizer\n",
    "        zeroed, loss and optimizer complete backward step.\n",
    "\n",
    "        Inputs:\n",
    "        outputs: tensor of network's predicted outputs of a given sample\n",
    "                 (i.e. output of forward pass)\n",
    "        targets: actual output tensor for given sample\n",
    "\n",
    "        Output:\n",
    "        returns loss value between outputs and targets\n",
    "        \"\"\"\n",
    "        self.loss = self.criteria(outputs, targets)\n",
    "        loss_copy = self.loss\n",
    "        self.optimizer.zero_grad()\n",
    "        self.loss.backward()\n",
    "        self.optimizer.step()\n",
    "        return loss_copy\n",
    "    \n",
    "    def compute_loss(self, outputs, targets):\n",
    "        \"\"\"\n",
    "        Description:\n",
    "        Computes loss without actually backpropagating. Used for checking\n",
    "        network's progress with test data.\n",
    "\n",
    "        Inputs:\n",
    "        outputs: tensor of network's predicted outputs of a given sample\n",
    "                 (i.e. output of forward pass)\n",
    "        targets: actual output tensor for given sample\n",
    "\n",
    "        Output:\n",
    "        returns loss value between outputs and targets\n",
    "        \"\"\"\n",
    "        return self.criteria(outputs, targets)"
   ]
  },
  {
   "cell_type": "markdown",
   "id": "50e17359",
   "metadata": {},
   "source": [
    "## Define a few functions for generating data"
   ]
  },
  {
   "cell_type": "code",
   "execution_count": 14,
   "id": "d6e86393",
   "metadata": {},
   "outputs": [],
   "source": [
    "def underdamped_position(t_values, amplitude, gamma, Omega, phi):\n",
    "    \"\"\"\n",
    "    Description:\n",
    "    Calculates the position value of an underdamped harmonic oscillator\n",
    "    with the inputted t_values and parameters.\n",
    "    For math, see: https://phys.libretexts.org/Bookshelves/Mathematical_Physics_and_Pedagogy/Complex_Methods_for_the_Sciences_(Chong)/05%3A_Complex_Oscillations/5.03%3A_General_Solution_for_the_Damped_Harmonic_Oscillator\n",
    "\n",
    "    Inputs:\n",
    "    t_values: np array or scalar of time values, output has same shape\n",
    "    amplitude: factor multiplied by entire expression\n",
    "    gamma: damping coefficient\n",
    "    Omega: sqrt((angular frequency)**2 - gamma**2). Note that this is \n",
    "           capital Omega, not to be confused with lowercase omega \n",
    "           (angular frequency). Also note that omega > gamma for \n",
    "           underdamped case.\n",
    "    phi: phase shift\n",
    "\n",
    "    Output:\n",
    "    returns np array or scalar of position values, calculated using \n",
    "    general solution to underdamped harmonic oscillator (see url in \n",
    "    description).\n",
    "\n",
    "    \"\"\"\n",
    "    return amplitude * np.exp(-gamma * t_values) * np.cos(Omega * t_values + phi)"
   ]
  },
  {
   "cell_type": "code",
   "execution_count": 15,
   "id": "f0e1dd9d",
   "metadata": {},
   "outputs": [],
   "source": [
    "def generate_params(oscillation_type=\"good\"):\n",
    "    \"\"\"\n",
    "    Description:\n",
    "    Generates random values of Omega, gamma, amplitude, and phi that fit\n",
    "    constraints imposed by oscillation_type.\n",
    "\n",
    "    Inputs:\n",
    "    oscillation_type: either \"good\" (small gamma) or \"quick-damp\" (larger\n",
    "                      gamma)\n",
    "\n",
    "    Output:\n",
    "    returns amplitude, gamma, Omega, phi\n",
    "\n",
    "    \"\"\"\n",
    "    if (oscillation_type == \"good\"):\n",
    "        # ensure that omega_0 and gamma are 1 order of magnitude different\n",
    "        # NOTE omega_0 somewhat arbitrarily constrained to range\n",
    "        omega_0 = (1 - 0.6) * np.random.random() + 0.6\n",
    "        gamma = (0.1 - 0.01) * np.random.random() + 0.01\n",
    "    elif (oscillation_type == \"quick-damp\"):\n",
    "        # omega_0 and gamma will be within (closeness * 10)% of each other\n",
    "        closeness = 0.9\n",
    "        upper_limit = np.random.random()\n",
    "        lower_limit = upper_limit - closeness * upper_limit  \n",
    "        omega_0 = (upper_limit - lower_limit) * np.random.random() + lower_limit\n",
    "        gamma = (upper_limit - lower_limit) * np.random.random() + lower_limit\n",
    "        \n",
    "        # underdamped constraint is omega_0 > gamma\n",
    "        while (gamma > omega_0):\n",
    "            gamma = (upper_limit - lower_limit) * np.random.random() + lower_limit\n",
    "\n",
    "    amplitude = np.random.random()  # range of 0-1\n",
    "    phi = np.random.random()  # range of 0-1\n",
    "    Omega = np.sqrt(omega_0**2 - gamma**2)\n",
    "\n",
    "    return amplitude, gamma, Omega, phi"
   ]
  },
  {
   "cell_type": "code",
   "execution_count": 16,
   "id": "8a5e3bd6",
   "metadata": {},
   "outputs": [],
   "source": [
    "def generate_independent_data(file_path, file_mode, num_samples, t_start=0, t_stop=100, t_step=1, oscillation_type=\"good\"):\n",
    "    \"\"\"\n",
    "    Description:\n",
    "    Generates a random value of t and random param values, then computes\n",
    "    the underdamped harmonic oscillator position. Does this num_samples\n",
    "    times and then writes data to csv.\n",
    "\n",
    "    Inputs:\n",
    "    file_path: name of csv to write generated data to\n",
    "    file_mode: mode to open file_path in\n",
    "    num_samples: number of random samples to generate (output file will\n",
    "                 have this many lines +1 for header)\n",
    "    t_start: beginning value of t range\n",
    "    t_stop: ending value of t range\n",
    "    oscillation_type: either \"good\" (small gamma) or \"quick-damp\" (larger\n",
    "                      gamma)\n",
    "\n",
    "    Output:\n",
    "    returns None, writes data to file\n",
    "    \"\"\"\n",
    "    generated_samples = []\n",
    "    t_choices = np.arange(t_start, t_stop + t_step, t_step)\n",
    "\n",
    "    for i in range(num_samples):\n",
    "        t = np.random.choice(t_choices)\n",
    "        amplitude, gamma, Omega, phi = generate_params(oscillation_type)\n",
    "        position = underdamped_position(t, amplitude, gamma, Omega, phi)\n",
    "        generated_samples.append([t, Omega, gamma, phi, amplitude, position])\n",
    "\n",
    "    with open(file_path, file_mode) as fi:\n",
    "        if (file_mode == \"w\"):\n",
    "            fi.write(\"t,Omega,gamma,phi,amplitude,y\\n\")\n",
    "\n",
    "        for sample in generated_samples:\n",
    "            fi.write(f\"{','.join([str(val) for val in sample])}\\n\")"
   ]
  },
  {
   "cell_type": "code",
   "execution_count": 17,
   "id": "addb4ec0",
   "metadata": {},
   "outputs": [],
   "source": [
    "def generate_range_data(file_path, file_mode, t_start=0, t_stop=100, t_step=1, oscillation_type=\"good\"):\n",
    "    \"\"\"\n",
    "    Description: generates a set of underdamped harmonic oscillator data\n",
    "                 using a fixed range of t and random constants.\n",
    "\n",
    "    Inputs:\n",
    "    file_path: where to write data to \n",
    "    file_mode: mode to open data file in\n",
    "    t_start: starting value of t (defaults to 0)\n",
    "    t_stop: stopping value of t (defaults to 100)\n",
    "    t_step: number of values from t_start to t_stop (defaults to 1000)\n",
    "    oscillation_type: \"good\" or \"quick-damp\"\n",
    "\n",
    "    Output:\n",
    "    returns None, writes data to file_path\n",
    "    \"\"\"\n",
    "    # hold range of t values constant across all generated data\n",
    "    # this creates 1000 samples\n",
    "    t_values = np.arange(t_start, t_stop + t_step, t_step)\n",
    "\n",
    "    # randomly generate parameters\n",
    "    amplitude, gamma, Omega, phi = generate_params(oscillation_type)\n",
    "\n",
    "    # analytical solution (y values)\n",
    "    positions = underdamped_position(t_values, amplitude, gamma, Omega, phi)\n",
    "\n",
    "    # write params and y vs. t to csv\n",
    "    with open(file_path, file_mode) as fi:\n",
    "        if file_mode == \"w\":\n",
    "            fi.write(\"t,Omega,gamma,phi,amplitude,y\\n\")\n",
    "\n",
    "        for i in range(len(t_values)):\n",
    "            fi.write(f\"{t_values[i]},{Omega},{gamma},{phi},{amplitude},{positions[i]}\\n\")"
   ]
  },
  {
   "cell_type": "markdown",
   "id": "77f4874a",
   "metadata": {},
   "source": [
    "## Create train dataset"
   ]
  },
  {
   "cell_type": "code",
   "execution_count": 25,
   "id": "751013bd",
   "metadata": {},
   "outputs": [
    {
     "name": "stdout",
     "output_type": "stream",
     "text": [
      "CPU times: user 19.8 s, sys: 575 ms, total: 20.4 s\n",
      "Wall time: 19.9 s\n"
     ]
    }
   ],
   "source": [
    "%%time\n",
    "data_dir = \"data\"\n",
    "os.system(f\"mkdir -p {data_dir}\")\n",
    "\n",
    "train_samples = int(1e6)\n",
    "train_dataset_name = \"underdamped_independent_train\"\n",
    "t_start = 0\n",
    "t_stop = 50\n",
    "t_step = 0.1\n",
    "oscillation_type = \"good\"\n",
    "\n",
    "train_file_path = f\"{data_dir}/{train_dataset_name}_{oscillation_type}_samples={train_samples}_t0={t_start}_tf={t_stop}_ts={t_step}.csv\"\n",
    "file_mode = \"w\"\n",
    "generate_independent_data(train_file_path, file_mode, train_samples, t_start=t_start, t_stop=t_stop, t_step=t_step, oscillation_type=oscillation_type)"
   ]
  },
  {
   "cell_type": "markdown",
   "id": "bb237471",
   "metadata": {},
   "source": [
    "## Create test dataset"
   ]
  },
  {
   "cell_type": "code",
   "execution_count": 26,
   "id": "d0ea5f0d",
   "metadata": {},
   "outputs": [
    {
     "name": "stdout",
     "output_type": "stream",
     "text": [
      "CPU times: user 232 ms, sys: 29 ms, total: 261 ms\n",
      "Wall time: 227 ms\n"
     ]
    }
   ],
   "source": [
    "%%time\n",
    "test_samples = int(1e4)\n",
    "test_dataset_name = \"underdamped_independent_test\"\n",
    "\n",
    "test_file_path = f\"{data_dir}/{test_dataset_name}_{oscillation_type}_samples={test_samples}_t0={t_start}_tf={t_stop}_ts={t_step}.csv\"\n",
    "file_mode = \"w\"\n",
    "generate_independent_data(test_file_path, file_mode, test_samples, t_start=t_start, t_stop=t_stop, t_step=t_step, oscillation_type=oscillation_type)"
   ]
  },
  {
   "cell_type": "markdown",
   "id": "4b5f5ae6",
   "metadata": {},
   "source": [
    "## Load and prepare train/test datasets"
   ]
  },
  {
   "cell_type": "code",
   "execution_count": 27,
   "id": "e7b06792",
   "metadata": {},
   "outputs": [],
   "source": [
    "# train\n",
    "train_df = pd.read_csv(train_file_path)\n",
    "feat_cols = [col for col in train_df.columns if col != \"y\"]\n",
    "X_train = torch.tensor(train_df[feat_cols].values).float()\n",
    "y_train = torch.tensor(train_df[\"y\"].values).float()\n",
    "y_train = y_train.reshape(y_train.shape[0], 1)\n",
    "\n",
    "# test\n",
    "test_df = pd.read_csv(test_file_path)\n",
    "X_test = torch.tensor(test_df[feat_cols].values).float()\n",
    "y_test = torch.tensor(test_df[\"y\"].values).float()\n",
    "y_test = y_test.reshape(y_test.shape[0], 1)"
   ]
  },
  {
   "cell_type": "markdown",
   "id": "f08e277c",
   "metadata": {},
   "source": [
    "## Initialize nn"
   ]
  },
  {
   "cell_type": "code",
   "execution_count": 37,
   "id": "867aad1f",
   "metadata": {},
   "outputs": [],
   "source": [
    "input_len = X_train.shape[1]\n",
    "num_outputs = 1  # nn predicts a scalar\n",
    "model = FeedFwdNN(input_len, num_outputs)\n",
    "model_dir = \"models\"\n",
    "model_path = f\"{model_dir}/{train_file_path.replace('data/', '').replace('train_', '').replace('.csv', '.pt')}\""
   ]
  },
  {
   "cell_type": "markdown",
   "id": "b29baa74",
   "metadata": {},
   "source": [
    "## Training loop"
   ]
  },
  {
   "cell_type": "code",
   "execution_count": 50,
   "id": "bd6e8e10",
   "metadata": {},
   "outputs": [
    {
     "name": "stdout",
     "output_type": "stream",
     "text": [
      "epoch: 0\n",
      "train loss = 0.0022897301241755486, test loss = 0.004156360402703285, time = 15.81 seconds\n",
      "\n",
      "epoch: 1\n",
      "train loss = 0.0018305107951164246, test loss = 0.003977814689278603, time = 15.40 seconds\n",
      "\n",
      "epoch: 2\n",
      "train loss = 0.0018501289887353778, test loss = 0.0043180277571082115, time = 15.32 seconds\n",
      "\n",
      "epoch: 3\n",
      "train loss = 0.0023389810230582952, test loss = 0.004590102005749941, time = 15.42 seconds\n",
      "\n",
      "epoch: 4\n",
      "train loss = 0.0017466350691393018, test loss = 0.0032440205104649067, time = 15.33 seconds\n",
      "\n",
      "epoch: 5\n",
      "train loss = 0.0013843757333233953, test loss = 0.002812659367918968, time = 15.28 seconds\n",
      "\n",
      "epoch: 6\n",
      "train loss = 0.0015884863678365946, test loss = 0.00231042318046093, time = 15.19 seconds\n",
      "\n",
      "epoch: 7\n",
      "train loss = 0.0016094848979264498, test loss = 0.00281280605122447, time = 15.22 seconds\n",
      "\n",
      "epoch: 8\n",
      "train loss = 0.0008199686417356133, test loss = 0.002031445037573576, time = 15.27 seconds\n",
      "\n",
      "epoch: 9\n",
      "train loss = 0.0004137715441174805, test loss = 0.001585288206115365, time = 15.22 seconds\n",
      "\n",
      "epoch: 10\n",
      "train loss = 0.0012003477895632386, test loss = 0.0024015789385885, time = 15.31 seconds\n",
      "\n",
      "epoch: 11\n",
      "train loss = 0.0009781250264495611, test loss = 0.0027545737102627754, time = 15.34 seconds\n",
      "\n",
      "epoch: 12\n",
      "train loss = 0.0007323013269342482, test loss = 0.0020782409701496363, time = 15.28 seconds\n",
      "\n",
      "epoch: 13\n",
      "train loss = 0.0009281698148697615, test loss = 0.0019655555952340364, time = 15.28 seconds\n",
      "\n",
      "epoch: 14\n",
      "train loss = 0.0005811476148664951, test loss = 0.0016594858607277274, time = 15.47 seconds\n",
      "\n",
      "epoch: 15\n",
      "train loss = 0.0006049442454241216, test loss = 0.001479754806496203, time = 15.57 seconds\n",
      "\n",
      "epoch: 16\n",
      "train loss = 0.0003921102616004646, test loss = 0.0013604894047603011, time = 15.80 seconds\n",
      "\n",
      "epoch: 17\n",
      "train loss = 0.0005514053627848625, test loss = 0.0013398941373452544, time = 15.94 seconds\n",
      "\n",
      "epoch: 18\n",
      "train loss = 0.0007799765444360673, test loss = 0.0012124788481742144, time = 15.94 seconds\n",
      "\n",
      "epoch: 19\n",
      "train loss = 0.0005021918332204223, test loss = 0.0012344818096607924, time = 15.56 seconds\n",
      "\n",
      "epoch: 20\n",
      "train loss = 0.000571069133002311, test loss = 0.0011184383183717728, time = 15.86 seconds\n",
      "\n",
      "epoch: 21\n",
      "train loss = 0.00045080026029609144, test loss = 0.001190815819427371, time = 15.49 seconds\n",
      "\n",
      "epoch: 22\n",
      "train loss = 0.0003693005128297955, test loss = 0.0009749616729095578, time = 15.67 seconds\n",
      "\n",
      "epoch: 23\n",
      "train loss = 0.0006908717332407832, test loss = 0.0013700354611501098, time = 15.78 seconds\n",
      "\n",
      "epoch: 24\n",
      "train loss = 0.00045971450163051486, test loss = 0.0012477646814659238, time = 15.41 seconds\n",
      "\n",
      "epoch: 25\n",
      "train loss = 0.0007550932932645082, test loss = 0.0009799014078453183, time = 15.43 seconds\n",
      "\n",
      "epoch: 26\n",
      "train loss = 0.0005486191948875785, test loss = 0.0008745205122977495, time = 15.66 seconds\n",
      "\n",
      "epoch: 27\n",
      "train loss = 0.0004630595212802291, test loss = 0.0008225145284086466, time = 15.40 seconds\n",
      "\n",
      "epoch: 28\n",
      "train loss = 0.0006298567750491202, test loss = 0.0009757825755514205, time = 15.30 seconds\n",
      "\n",
      "epoch: 29\n",
      "train loss = 0.000585619593039155, test loss = 0.0006335299694910645, time = 15.43 seconds\n",
      "\n"
     ]
    }
   ],
   "source": [
    "# parameters of training loop\n",
    "num_epochs = 30\n",
    "batch_size = 64\n",
    "batches = torch.arange(0, X_train.shape[0], batch_size)\n",
    "train_losses = []  \n",
    "test_losses = []\n",
    "\n",
    "for epoch_idx in range(num_epochs):\n",
    "    start = time.time()\n",
    "    print(f\"epoch: {epoch_idx}\")\n",
    "\n",
    "    for batch in batches:\n",
    "        X_batch = X_train[batch:batch + batch_size]\n",
    "        y_batch = y_train[batch:batch + batch_size]\n",
    "        y_predictions = model.forward(X_batch)\n",
    "        train_loss = model.backward(y_predictions, y_batch)\n",
    "\n",
    "    y_test_predictions = model.forward(X_test)\n",
    "    test_loss = model.compute_loss(y_test_predictions, y_test)\n",
    "    train_losses.append(train_loss.detach().numpy())\n",
    "    test_losses.append(test_loss.detach().numpy())\n",
    "    print(f\"train loss = {train_loss}, test loss = {test_loss}, time = {time.time() - start:.2f} seconds\\n\")\n",
    "\n",
    "# save model\n",
    "os.system(f\"rm -rf {model_path}\")  \n",
    "torch.save(model.state_dict(), model_path)"
   ]
  },
  {
   "cell_type": "code",
   "execution_count": 84,
   "id": "3db0fc8f",
   "metadata": {},
   "outputs": [],
   "source": [
    "plt.rcParams[\"figure.figsize\"] = (13, 8)\n",
    "plt.rcParams[\"font.size\"] = 16"
   ]
  },
  {
   "cell_type": "code",
   "execution_count": 85,
   "id": "4b2fb79f",
   "metadata": {},
   "outputs": [
    {
     "data": {
      "image/png": "[encoded data removed]",
      "text/plain": [
       "<Figure size 936x576 with 1 Axes>"
      ]
     },
     "metadata": {
      "needs_background": "light"
     },
     "output_type": "display_data"
    }
   ],
   "source": [
    "# plot losses\n",
    "epoch_indexes = [i for i in range(num_epochs)]\n",
    "plt.scatter(epoch_indexes, train_losses, label=\"train\")\n",
    "plt.scatter(epoch_indexes, test_losses, label=\"test\")\n",
    "plt.legend()\n",
    "plt.xlabel(\"epoch #\")\n",
    "plt.ylabel(\"loss\")\n",
    "plt.show()"
   ]
  },
  {
   "cell_type": "markdown",
   "id": "c3c3ad29",
   "metadata": {},
   "source": [
    "## Create data over an interval of t"
   ]
  },
  {
   "cell_type": "code",
   "execution_count": 68,
   "id": "0f3e5d79",
   "metadata": {},
   "outputs": [],
   "source": [
    "dataset_type = \"underdamped_range_validation\"\n",
    "validation_path = f\"{data_dir}/{dataset_type}_{oscillation_type}_t0={t_start}_tf={t_stop}_ts={t_step}.csv\"\n",
    "generate_range_data(validation_path, file_mode, t_start=t_start, t_stop=t_stop, t_step=t_step, oscillation_type=\"good\")\n",
    "validation_df = pd.read_csv(validation_path)"
   ]
  },
  {
   "cell_type": "code",
   "execution_count": 86,
   "id": "5c328b62",
   "metadata": {},
   "outputs": [
    {
     "data": {
      "image/png": "[encoded data removed]",
      "text/plain": [
       "<Figure size 936x576 with 1 Axes>"
      ]
     },
     "metadata": {
      "needs_background": "light"
     },
     "output_type": "display_data"
    }
   ],
   "source": [
    "# make predictions over this new range of data\n",
    "X_val = torch.tensor(validation_df[feat_cols].values).float()\n",
    "y_val = validation_df[\"y\"].to_numpy()\n",
    "val_preds = model(X_val)\n",
    "val_preds = val_preds.detach().numpy()\n",
    "val_preds = val_preds.reshape(val_preds.shape[0])\n",
    "\n",
    "plt.plot(validation_df[\"t\"], y_val, label=\"analytical\")\n",
    "plt.plot(validation_df[\"t\"], val_preds, \"--\", label=\"predicted\")\n",
    "plt.xlabel(\"t\")\n",
    "plt.ylabel(\"y\")\n",
    "plt.legend()\n",
    "plt.show()"
   ]
  },
  {
   "cell_type": "code",
   "execution_count": null,
   "id": "fe831cff",
   "metadata": {},
   "outputs": [],
   "source": []
  },
  {
   "cell_type": "code",
   "execution_count": null,
   "id": "7921c0e8",
   "metadata": {},
   "outputs": [],
   "source": []
  }
 ],
 "metadata": {
  "kernelspec": {
   "display_name": "Python 3 (ipykernel)",
   "language": "python",
   "name": "python3"
  },
  "language_info": {
   "codemirror_mode": {
    "name": "ipython",
    "version": 3
   },
   "file_extension": ".py",
   "mimetype": "text/x-python",
   "name": "python",
   "nbconvert_exporter": "python",
   "pygments_lexer": "ipython3",
   "version": "3.9.7"
  }
 },
 "nbformat": 4,
 "nbformat_minor": 5
}
